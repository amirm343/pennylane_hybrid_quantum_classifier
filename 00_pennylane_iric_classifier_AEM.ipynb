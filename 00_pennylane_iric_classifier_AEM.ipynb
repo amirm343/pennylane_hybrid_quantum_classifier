{
 "cells": [
  {
   "cell_type": "code",
   "execution_count": 1,
   "metadata": {},
   "outputs": [],
   "source": [
    "import pennylane as qml\n",
    "from pennylane import numpy as np\n",
    "from pennylane.optimize import NesterovMomentumOptimizer"
   ]
  },
  {
   "cell_type": "code",
   "execution_count": 2,
   "metadata": {},
   "outputs": [],
   "source": [
    "dev = qml.device(\"default.qubit\", wires=2)"
   ]
  },
  {
   "cell_type": "code",
   "execution_count": 3,
   "metadata": {},
   "outputs": [],
   "source": [
    "def get_angles(x):\n",
    "\n",
    "    beta0 = 2 * np.arcsin(np.sqrt(x[1] ** 2) / np.sqrt(x[0] ** 2 + x[1] ** 2 + 1e-12))\n",
    "    beta1 = 2 * np.arcsin(np.sqrt(x[3] ** 2) / np.sqrt(x[2] ** 2 + x[3] ** 2 + 1e-12))\n",
    "    beta2 = 2 * np.arcsin(\n",
    "        np.sqrt(x[2] ** 2 + x[3] ** 2)\n",
    "        / np.sqrt(x[0] ** 2 + x[1] ** 2 + x[2] ** 2 + x[3] ** 2)\n",
    "    )\n",
    "\n",
    "    return np.array([beta2, -beta1 / 2, beta1 / 2, -beta0 / 2, beta0 / 2])"
   ]
  },
  {
   "cell_type": "markdown",
   "metadata": {},
   "source": [
    "# الزامات و خود مدار"
   ]
  },
  {
   "cell_type": "code",
   "execution_count": 4,
   "metadata": {},
   "outputs": [],
   "source": [
    "def statepreparation(a):\n",
    "    qml.RY(a[0], wires=0)\n",
    "\n",
    "    qml.CNOT(wires=[0, 1])\n",
    "    qml.RY(a[1], wires=1)\n",
    "    qml.CNOT(wires=[0, 1])\n",
    "    qml.RY(a[2], wires=1)\n",
    "\n",
    "    qml.PauliX(wires=0)\n",
    "    qml.CNOT(wires=[0, 1])\n",
    "    qml.RY(a[3], wires=1)\n",
    "    qml.CNOT(wires=[0, 1])\n",
    "    qml.RY(a[4], wires=1)\n",
    "    qml.PauliX(wires=0)"
   ]
  },
  {
   "cell_type": "code",
   "execution_count": 5,
   "metadata": {},
   "outputs": [],
   "source": [
    "def layer(W):\n",
    "    qml.Rot(W[0, 0], W[0, 1], W[0, 2], wires=0)\n",
    "    qml.Rot(W[1, 0], W[1, 1], W[1, 2], wires=1)\n",
    "    qml.CNOT(wires=[0, 1])"
   ]
  },
  {
   "cell_type": "code",
   "execution_count": 6,
   "metadata": {},
   "outputs": [],
   "source": [
    "@qml.qnode(dev)\n",
    "def circuit(weights, angles):\n",
    "\n",
    "    statepreparation(angles)\n",
    "    \n",
    "    for W in weights:\n",
    "        layer(W)\n",
    "\n",
    "    return qml.expval(qml.PauliZ(0))"
   ]
  },
  {
   "cell_type": "code",
   "execution_count": null,
   "metadata": {},
   "outputs": [],
   "source": [
    "qml.drawer.use_style(style=\"solarized_dark\")\n",
    "fig, ax = qml.draw_mpl(circuit)(weights_init,features[0])"
   ]
  },
  {
   "cell_type": "markdown",
   "metadata": {},
   "source": [
    "# تابع ضرر و تابع هزینه"
   ]
  },
  {
   "cell_type": "code",
   "execution_count": 8,
   "metadata": {},
   "outputs": [],
   "source": [
    "def variational_classifier(weights, bias, angles):\n",
    "    return circuit(weights, angles) + bias"
   ]
  },
  {
   "cell_type": "code",
   "execution_count": 9,
   "metadata": {},
   "outputs": [],
   "source": [
    "def square_loss(labels, predictions):\n",
    "    loss = 0\n",
    "    for l, p in zip(labels, predictions):\n",
    "        loss = loss + (l - p) ** 2\n",
    "\n",
    "    loss = loss / len(labels)\n",
    "    return loss"
   ]
  },
  {
   "cell_type": "code",
   "execution_count": 21,
   "metadata": {},
   "outputs": [],
   "source": [
    "def accuracy(labels, predictions):\n",
    "\n",
    "    loss = 0\n",
    "    for l, p in zip(labels, predictions):\n",
    "        if abs(l - p) < 1e-5:\n",
    "            loss = loss + 1\n",
    "    loss = loss / len(labels)\n",
    "\n",
    "    return loss"
   ]
  },
  {
   "cell_type": "code",
   "execution_count": 10,
   "metadata": {},
   "outputs": [],
   "source": [
    "def cost(weights, bias, features, labels):\n",
    "    predictions = [variational_classifier(weights, bias, f) for f in features]\n",
    "    return square_loss(labels, predictions)"
   ]
  },
  {
   "cell_type": "markdown",
   "metadata": {},
   "source": [
    "# آماده سازی دیتا"
   ]
  },
  {
   "cell_type": "code",
   "execution_count": 12,
   "metadata": {},
   "outputs": [
    {
     "name": "stdout",
     "output_type": "stream",
     "text": [
      "First X sample (original)  : [0.4  0.75]\n",
      "First X sample (padded)    : [0.4  0.75 0.3  0.  ]\n",
      "First X sample (normalized): [0.44376016 0.83205029 0.33282012 0.        ]\n",
      "First features sample      : [ 0.67858523 -0.          0.         -1.080839    1.080839  ]\n"
     ]
    }
   ],
   "source": [
    "data = np.loadtxt(\"iris_classes1and2_scaled.txt\")\n",
    "X = data[:, 0:2]\n",
    "print(\"First X sample (original)  :\", X[0])\n",
    "\n",
    "# pad the vectors to size 2^2 with constant values\n",
    "padding = 0.3 * np.ones((len(X), 1))\n",
    "X_pad = np.c_[np.c_[X, padding], np.zeros((len(X), 1))]\n",
    "print(\"First X sample (padded)    :\", X_pad[0])\n",
    "\n",
    "# normalize each input\n",
    "normalization = np.sqrt(np.sum(X_pad ** 2, -1))\n",
    "X_norm = (X_pad.T / normalization).T\n",
    "print(\"First X sample (normalized):\", X_norm[0])\n",
    "\n",
    "# angles for state preparation are new features\n",
    "features = np.array([get_angles(x) for x in X_norm], requires_grad=False)\n",
    "print(\"First features sample      :\", features[0])\n",
    "\n",
    "Y = data[:, -1]"
   ]
  },
  {
   "cell_type": "code",
   "execution_count": 13,
   "metadata": {},
   "outputs": [],
   "source": [
    "np.random.seed(0)\n",
    "num_data = len(Y)\n",
    "num_train = int(0.75 * num_data)\n",
    "index = np.random.permutation(range(num_data))\n",
    "feats_train = features[index[:num_train]]\n",
    "Y_train = Y[index[:num_train]]\n",
    "feats_val = features[index[num_train:]]\n",
    "Y_val = Y[index[num_train:]]\n",
    "\n",
    "# We need these later for plotting\n",
    "# X_train = X[index[:num_train]]\n",
    "# X_val = X[index[num_train:]]"
   ]
  },
  {
   "cell_type": "markdown",
   "metadata": {},
   "source": [
    "# آماده سازی و اجرای بهینه سازی"
   ]
  },
  {
   "cell_type": "code",
   "execution_count": 14,
   "metadata": {},
   "outputs": [],
   "source": [
    "num_qubits = 2\n",
    "num_layers = 6\n",
    "\n",
    "weights_init = 0.01 * np.random.randn(num_layers, num_qubits, 3, requires_grad=True)\n",
    "bias_init = np.array(0.0, requires_grad=True)"
   ]
  },
  {
   "cell_type": "code",
   "execution_count": 76,
   "metadata": {},
   "outputs": [
    {
     "name": "stdout",
     "output_type": "stream",
     "text": [
      "Iter:     1 | Cost: 1.4772668 | Acc train: 0.4933333 | Acc validation: 0.5600000 \n",
      "Iter:     2 | Cost: 1.3188836 | Acc train: 0.4933333 | Acc validation: 0.5600000 \n",
      "Iter:     3 | Cost: 1.1415922 | Acc train: 0.4533333 | Acc validation: 0.5600000 \n",
      "Iter:     4 | Cost: 0.9990635 | Acc train: 0.4800000 | Acc validation: 0.5600000 \n",
      "Iter:     5 | Cost: 0.9207064 | Acc train: 0.5733333 | Acc validation: 0.7600000 \n",
      "Iter:     6 | Cost: 0.8637793 | Acc train: 0.7066667 | Acc validation: 0.7600000 \n",
      "Iter:     7 | Cost: 0.8760742 | Acc train: 0.6666667 | Acc validation: 0.6400000 \n",
      "Iter:     8 | Cost: 0.9010395 | Acc train: 0.5866667 | Acc validation: 0.5200000 \n",
      "Iter:     9 | Cost: 0.9570343 | Acc train: 0.5200000 | Acc validation: 0.4400000 \n",
      "Iter:    10 | Cost: 0.9437783 | Acc train: 0.5200000 | Acc validation: 0.4400000 \n",
      "Iter:    11 | Cost: 0.9100635 | Acc train: 0.5200000 | Acc validation: 0.4400000 \n",
      "Iter:    12 | Cost: 0.8695873 | Acc train: 0.5333333 | Acc validation: 0.4400000 \n",
      "Iter:    13 | Cost: 0.8365585 | Acc train: 0.5466667 | Acc validation: 0.4800000 \n",
      "Iter:    14 | Cost: 0.7769470 | Acc train: 0.5600000 | Acc validation: 0.5200000 \n",
      "Iter:    15 | Cost: 0.7252880 | Acc train: 0.8266667 | Acc validation: 0.8000000 \n",
      "Iter:    16 | Cost: 0.7180533 | Acc train: 0.8533333 | Acc validation: 0.9600000 \n",
      "Iter:    17 | Cost: 0.7593481 | Acc train: 0.7066667 | Acc validation: 0.7600000 \n",
      "Iter:    18 | Cost: 0.8290561 | Acc train: 0.6400000 | Acc validation: 0.6400000 \n",
      "Iter:    19 | Cost: 0.8747701 | Acc train: 0.5600000 | Acc validation: 0.6000000 \n",
      "Iter:    20 | Cost: 0.8750574 | Acc train: 0.5600000 | Acc validation: 0.6000000 \n",
      "Iter:    21 | Cost: 0.7961741 | Acc train: 0.6400000 | Acc validation: 0.6400000 \n",
      "Iter:    22 | Cost: 0.7323205 | Acc train: 0.7733333 | Acc validation: 0.7600000 \n",
      "Iter:    23 | Cost: 0.6863180 | Acc train: 0.9200000 | Acc validation: 1.0000000 \n",
      "Iter:    24 | Cost: 0.6713329 | Acc train: 0.8533333 | Acc validation: 0.8000000 \n",
      "Iter:    25 | Cost: 0.7039895 | Acc train: 0.5866667 | Acc validation: 0.5200000 \n",
      "Iter:    26 | Cost: 0.7428782 | Acc train: 0.5733333 | Acc validation: 0.5200000 \n",
      "Iter:    27 | Cost: 0.7382144 | Acc train: 0.5733333 | Acc validation: 0.5200000 \n",
      "Iter:    28 | Cost: 0.7053443 | Acc train: 0.5733333 | Acc validation: 0.5200000 \n",
      "Iter:    29 | Cost: 0.6476164 | Acc train: 0.6133333 | Acc validation: 0.6000000 \n",
      "Iter:    30 | Cost: 0.5680477 | Acc train: 0.8000000 | Acc validation: 0.8000000 \n",
      "Iter:    31 | Cost: 0.5121388 | Acc train: 0.9066667 | Acc validation: 0.8800000 \n",
      "Iter:    32 | Cost: 0.4767771 | Acc train: 0.9333333 | Acc validation: 0.9200000 \n",
      "Iter:    33 | Cost: 0.4460918 | Acc train: 0.9600000 | Acc validation: 1.0000000 \n",
      "Iter:    34 | Cost: 0.4190729 | Acc train: 0.9733333 | Acc validation: 1.0000000 \n",
      "Iter:    35 | Cost: 0.3948531 | Acc train: 1.0000000 | Acc validation: 1.0000000 \n",
      "Iter:    36 | Cost: 0.3751074 | Acc train: 1.0000000 | Acc validation: 1.0000000 \n",
      "Iter:    37 | Cost: 0.3516633 | Acc train: 1.0000000 | Acc validation: 1.0000000 \n",
      "Iter:    38 | Cost: 0.3327836 | Acc train: 1.0000000 | Acc validation: 1.0000000 \n",
      "Iter:    39 | Cost: 0.3163838 | Acc train: 1.0000000 | Acc validation: 1.0000000 \n",
      "Iter:    40 | Cost: 0.3076922 | Acc train: 1.0000000 | Acc validation: 1.0000000 \n",
      "Iter:    41 | Cost: 0.2906172 | Acc train: 1.0000000 | Acc validation: 1.0000000 \n",
      "Iter:    42 | Cost: 0.2730523 | Acc train: 1.0000000 | Acc validation: 1.0000000 \n",
      "Iter:    43 | Cost: 0.2596051 | Acc train: 1.0000000 | Acc validation: 1.0000000 \n",
      "Iter:    44 | Cost: 0.2502275 | Acc train: 1.0000000 | Acc validation: 1.0000000 \n",
      "Iter:    45 | Cost: 0.2442024 | Acc train: 1.0000000 | Acc validation: 1.0000000 \n",
      "Iter:    46 | Cost: 0.2393023 | Acc train: 1.0000000 | Acc validation: 1.0000000 \n",
      "Iter:    47 | Cost: 0.2364313 | Acc train: 1.0000000 | Acc validation: 1.0000000 \n",
      "Iter:    48 | Cost: 0.2365119 | Acc train: 1.0000000 | Acc validation: 1.0000000 \n",
      "Iter:    49 | Cost: 0.2385066 | Acc train: 1.0000000 | Acc validation: 1.0000000 \n",
      "Iter:    50 | Cost: 0.2414752 | Acc train: 1.0000000 | Acc validation: 1.0000000 \n",
      "Iter:    51 | Cost: 0.2481127 | Acc train: 1.0000000 | Acc validation: 1.0000000 \n",
      "Iter:    52 | Cost: 0.2465095 | Acc train: 1.0000000 | Acc validation: 1.0000000 \n",
      "Iter:    53 | Cost: 0.2418145 | Acc train: 1.0000000 | Acc validation: 1.0000000 \n",
      "Iter:    54 | Cost: 0.2367111 | Acc train: 1.0000000 | Acc validation: 1.0000000 \n",
      "Iter:    55 | Cost: 0.2352975 | Acc train: 1.0000000 | Acc validation: 1.0000000 \n",
      "Iter:    56 | Cost: 0.2370840 | Acc train: 1.0000000 | Acc validation: 1.0000000 \n",
      "Iter:    57 | Cost: 0.2412352 | Acc train: 1.0000000 | Acc validation: 1.0000000 \n",
      "Iter:    58 | Cost: 0.2402789 | Acc train: 1.0000000 | Acc validation: 1.0000000 \n",
      "Iter:    59 | Cost: 0.2390027 | Acc train: 1.0000000 | Acc validation: 1.0000000 \n",
      "Iter:    60 | Cost: 0.2370106 | Acc train: 1.0000000 | Acc validation: 1.0000000 \n"
     ]
    }
   ],
   "source": [
    "opt = NesterovMomentumOptimizer(0.01)\n",
    "batch_size = 5\n",
    "\n",
    "# train the variational classifier\n",
    "weights = weights_init\n",
    "bias = bias_init\n",
    "for it in range(60):\n",
    "\n",
    "    # Update the weights by one optimizer step\n",
    "    batch_index = np.random.randint(0, num_train, (batch_size,))\n",
    "    feats_train_batch = feats_train[batch_index]\n",
    "    Y_train_batch = Y_train[batch_index]\n",
    "    weights, bias, _, _ = opt.step(cost, weights, bias, feats_train_batch, Y_train_batch)\n",
    "\n",
    "    # Compute predictions on train and validation set\n",
    "    predictions_train = [np.sign(variational_classifier(weights, bias, f)) for f in feats_train]\n",
    "    predictions_val = [np.sign(variational_classifier(weights, bias, f)) for f in feats_val]\n",
    "\n",
    "    # Compute accuracy on train and validation set\n",
    "    acc_train = accuracy(Y_train, predictions_train)\n",
    "    acc_val = accuracy(Y_val, predictions_val)\n",
    "\n",
    "    print(\n",
    "        \"Iter: {:5d} | Cost: {:0.7f} | Acc train: {:0.7f} | Acc validation: {:0.7f} \"\n",
    "        \"\".format(it + 1, cost(weights, bias, features, Y), acc_train, acc_val)\n",
    "    )\n",
    "\n"
   ]
  }
 ],
 "metadata": {
  "kernelspec": {
   "display_name": "Python 3.10.4 64-bit",
   "language": "python",
   "name": "python3"
  },
  "language_info": {
   "codemirror_mode": {
    "name": "ipython",
    "version": 3
   },
   "file_extension": ".py",
   "mimetype": "text/x-python",
   "name": "python",
   "nbconvert_exporter": "python",
   "pygments_lexer": "ipython3",
   "version": "3.10.4"
  },
  "orig_nbformat": 4,
  "vscode": {
   "interpreter": {
    "hash": "916dbcbb3f70747c44a77c7bcd40155683ae19c65e1c03b4aa3499c5328201f1"
   }
  }
 },
 "nbformat": 4,
 "nbformat_minor": 2
}
